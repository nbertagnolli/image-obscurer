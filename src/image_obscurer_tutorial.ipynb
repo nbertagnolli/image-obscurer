{
 "cells": [
  {
   "cell_type": "markdown",
   "metadata": {},
   "source": [
    "# VGG Spoof\n",
    "This notebook holds a minimum working example of how to create universal adversarial perterbations as seen in this paper https://arxiv.org/abs/1610.08401."
   ]
  },
  {
   "cell_type": "code",
   "execution_count": null,
   "metadata": {},
   "outputs": [],
   "source": [
    "import keras\n",
    "from keras.applications import VGG16\n",
    "from keras.applications.vgg16 import decode_predictions\n",
    "from keras.preprocessing import image\n",
    "import numpy as np\n",
    "import matplotlib.pyplot as plt\n",
    "import matplotlib.image as mpimg\n",
    "\n",
    "%matplotlib inline"
   ]
  },
  {
   "cell_type": "code",
   "execution_count": null,
   "metadata": {},
   "outputs": [],
   "source": [
    "# Load in the pretrained VGG16 Network for training\n",
    "model = VGG16(include_top=True, weights='imagenet',\n",
    "              input_tensor=None, input_shape=None,\n",
    "              pooling=None,\n",
    "              classes=1000)"
   ]
  },
  {
   "cell_type": "code",
   "execution_count": null,
   "metadata": {},
   "outputs": [],
   "source": [
    "# Test a single image from image net to see the class\n",
    "# Load in the image to the correct dimensions\n",
    "img = image.img_to_array(image.load_img('../data/cat.jpg', grayscale=False, target_size=(224, 224, 3)))\n",
    "print(\"Image dimensions:\", img.shape)\n",
    "\n",
    "# Predict the class of the image\n",
    "pred = model.predict(np.array([img]))\n",
    "print(\"Prediction:\", decode_predictions(pred))\n",
    "\n",
    "# Display the image for kicks\n",
    "plt.imshow(image.array_to_img(img))"
   ]
  },
  {
   "cell_type": "code",
   "execution_count": null,
   "metadata": {},
   "outputs": [],
   "source": [
    "# load in the mask to obfuscate the image\n",
    "import scipy.io\n",
    "\n",
    "mask = np.array(scipy.io.loadmat(\"../data/VGG-16.mat\")[\"r\"])\n",
    "print(\"Mask dimmensions:\", mask.shape)\n",
    "\n",
    "plt.imshow(image.array_to_img(mask))"
   ]
  },
  {
   "cell_type": "code",
   "execution_count": null,
   "metadata": {},
   "outputs": [],
   "source": [
    "print(\"Mask range:  [{}, {}]\".format(mask.max(), mask.min()))\n",
    "print(\"Image range: [{}, {}]\".format(image.max(), image.min()))"
   ]
  },
  {
   "cell_type": "code",
   "execution_count": null,
   "metadata": {},
   "outputs": [],
   "source": [
    "# apply the mask and clip the result\n",
    "mangled = (img + mask).clip(0, 255)\n",
    "print(\"Mangled dimmensions:\", mangled.shape)\n",
    "print(\"Mangled range: [{}, {}]\".format(mangled.max(), mangled.min()))\n",
    "\n",
    "plt.imshow(image.array_to_img(mangled))"
   ]
  },
  {
   "cell_type": "code",
   "execution_count": null,
   "metadata": {},
   "outputs": [],
   "source": [
    "# Predict the class of the image\n",
    "pred = model.predict(np.array([mangled]))\n",
    "print(\"Prediction:\", decode_predictions(pred))"
   ]
  },
  {
   "cell_type": "code",
   "execution_count": null,
   "metadata": {},
   "outputs": [],
   "source": [
    "# Create the spoofed image\n",
    "# TODO::\n",
    "def spoof():\n",
    "    pass"
   ]
  }
 ],
 "metadata": {
  "kernelspec": {
   "display_name": "Python 3",
   "language": "python",
   "name": "python3"
  },
  "language_info": {
   "codemirror_mode": {
    "name": "ipython",
    "version": 3
   },
   "file_extension": ".py",
   "mimetype": "text/x-python",
   "name": "python",
   "nbconvert_exporter": "python",
   "pygments_lexer": "ipython3",
   "version": "3.5.2"
  }
 },
 "nbformat": 4,
 "nbformat_minor": 1
}
